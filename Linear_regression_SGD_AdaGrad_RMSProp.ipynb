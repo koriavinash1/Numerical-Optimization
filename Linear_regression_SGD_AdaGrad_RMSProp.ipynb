{
 "cells": [
  {
   "cell_type": "code",
   "execution_count": 2,
   "metadata": {},
   "outputs": [],
   "source": [
    "# load required libraries\n",
    "import matplotlib.pyplot as plt # for visualization \n",
    "import pandas as pd # for data loading and pre processing\n",
    "import numpy as np # for matrix operations\n",
    "from IPython.display import HTML # for graph display\n",
    "%matplotlib inline"
   ]
  },
  {
   "cell_type": "markdown",
   "metadata": {},
   "source": [
    "## Generate Random data of given shape"
   ]
  },
  {
   "cell_type": "code",
   "execution_count": 2,
   "metadata": {
    "collapsed": true
   },
   "outputs": [],
   "source": [
    "def generate_data(shape):\n",
    "    y = np.zeros((shape[0], 1))\n",
    "    mu, sigma = 0, 0.01\n",
    "    x = np.zeros((shape[0],shape[1]))\n",
    "    t = np.arange(shape[0]).T\n",
    "    coeff = np.random.randint(1, 9, size=shape[1])\n",
    "    print \"coefficients used to construct y are: {}\".format(coeff)\n",
    "    noise = np.random.normal(mu, sigma, (shape[0], 1))\n",
    "    \n",
    "    for col in range(shape[1]):\n",
    "        x[:,col] = np.random.randint(1, 100, size=shape[0]).T\n",
    "        y[:] += coeff[col]*x[:,col].reshape(shape[0], 1)\n",
    "    \n",
    "    y = y + noise\n",
    "    index = np.random.randint(0, shape[0], size=shape[0])\n",
    "    y, x = y[index], x[index]\n",
    "    \n",
    "    return (x[int(shape[0]*0.7):], y[int(shape[0]*0.7):]),\\\n",
    "            (x[:int(shape[0]*0.7)], y[:int(shape[0]*0.7)])"
   ]
  },
  {
   "cell_type": "code",
   "execution_count": 21,
   "metadata": {
    "collapsed": true
   },
   "outputs": [],
   "source": [
    "class linear_regression(object):\n",
    "    def __init__(self, alpha, n_features, plot = True):\n",
    "        self.alpha = alpha\n",
    "        self.n_features = n_features\n",
    "        self.w0 = np.random.rand(1)\n",
    "        self.weights = np.random.rand(self.n_features)\n",
    "        self.plot = plot\n",
    "           \n",
    "    def visualization(self, X, Y, losses):\n",
    "        if self.n_features == 1: \n",
    "            Ypred = np.matmul(X, self.weights.T) + self.w0\n",
    "            plt.subplot(1, 2, 1)\n",
    "            plt.plot(X, Y, 'r', X, Ypred, 'b')\n",
    "            plt.title('2D Data distribution, True and Predicted data')\n",
    "            plt.ylabel('Y values')\n",
    "            plt.xlabel('X values')\n",
    "\n",
    "            t = np.arange(len(losses))\n",
    "            plt.subplot(1, 2, 2)\n",
    "            plt.plot(t, losses)\n",
    "            plt.xlabel('steps')\n",
    "            plt.ylabel('Loss')\n",
    "\n",
    "            plt.show()\n",
    "\n",
    "            print \"Red line in plot1 shows true values, \\\n",
    "                blue line predicted values.\"\n",
    "        else:\n",
    "            t = np.arange(len(losses))\n",
    "            plt.plot(t, losses)\n",
    "            plt.xlabel('steps')\n",
    "            plt.ylabel('Loss')\n",
    "            plt.show()      \n",
    "        pass\n",
    "    \n",
    "    def forward(self, input):\n",
    "        self.input = np.array(input)\n",
    "        # print self.input.shape, self.weights.T.shape, self.w0.shape\n",
    "        self.output = np.matmul(self.input, self.weights.T) + self.w0\n",
    "        self.output = np.expand_dims(self.output, axis = 1)\n",
    "    \n",
    "    \n",
    "    def loss(self, labels):\n",
    "        # RMS\n",
    "        loss = np.mean((labels - self.output)**2)\n",
    "        return loss\n",
    "\n",
    "    \n",
    "    def gradients(self, labels):\n",
    "        # print self.output.shape, labels.shape\n",
    "        diff = self.output - labels\n",
    "        self.grad_w0 = 2*np.sum(diff)/labels.shape[0]\n",
    "        self.grad_w = 2*np.matmul(diff.T ,self.input)/labels.shape[0]\n",
    "       \n",
    "    \n",
    "    def predict(self, X):\n",
    "        output = np.matmul(self.input, self.weights.T) + self.w0\n",
    "        return output\n",
    "    \n",
    "    \n",
    "    def batch_gradient_descent(self, X, Y, thresh=0.2):\n",
    "        self.forward(X)\n",
    "        loss = self.loss(Y)\n",
    "        step = 0\n",
    "        if self.plot: losses = []\n",
    "        \n",
    "        while loss >= thresh:\n",
    "            self.gradients(Y)\n",
    "            \n",
    "            # update            \n",
    "            self.w0 -= np.squeeze(self.alpha*self.grad_w0)\n",
    "            self.weights -= np.squeeze(self.alpha*self.grad_w)\n",
    "            \n",
    "            self.forward(X)\n",
    "            loss = self.loss(Y)\n",
    "            losses.append(loss)\n",
    "            if step % 1000000 == 0: print \"Batch number: {}\".format(step)+\" current loss: {}\".format(loss)\n",
    "            # +\" current weights: {}\".format([self.weights, self.w0])\n",
    "            step += 1\n",
    "        if self.plot : self.visualization(X, Y, losses)\n",
    "        pass\n",
    "    \n",
    "    \n",
    "    def SGD(self, X, Y, batch_size, thresh=1):\n",
    "        loss = 100\n",
    "        step = 0\n",
    "        if self.plot: losses = []\n",
    "            \n",
    "        while loss >= thresh:\n",
    "            # mini_batch formation\n",
    "            index = np.random.randint(0, len(X), size = batch_size)\n",
    "            trainX, trainY = np.array(X)[index], np.array(Y)[index]\n",
    "            \n",
    "            self.forward(trainX)\n",
    "            loss = self.loss(trainY)\n",
    "            self.gradients(trainY)\n",
    "            \n",
    "            # update            \n",
    "            self.w0 -= np.squeeze(self.alpha*self.grad_w0)\n",
    "            self.weights -= np.squeeze(self.alpha*self.grad_w)\n",
    "            \n",
    "            losses.append(loss)\n",
    "            if step % 1000 == 999: print \"Batch number: {}\".format(step)+\" current loss: {}\".format(loss)\n",
    "            step += 1\n",
    "        if self.plot : self.visualization(X, Y, losses)\n",
    "        pass\n",
    "    \n",
    "    \n",
    "    def SGD_with_momentum(self, X, Y, batch_size, thresh=1, momentum = 0.9):\n",
    "        loss = 100\n",
    "        step = 0\n",
    "        if self.plot: losses = []\n",
    "            \n",
    "        delta_w, delta_w0 = np.zeros_like(self.weights), 0\n",
    "        \n",
    "        while loss >= thresh: \n",
    "            # mini_batch formation\n",
    "            index = np.random.randint(0, len(X), size = batch_size)\n",
    "            trainX, trainY = np.array(X)[index], np.array(Y)[index]\n",
    "            \n",
    "            self.forward(trainX)\n",
    "            loss = self.loss(trainY)\n",
    "            self.gradients(trainY)\n",
    "            \n",
    "            # update delta_w using momentum\n",
    "            delta_w = momentum*delta_w - self.alpha*self.grad_w\n",
    "            delta_w0 = momentum*delta_w0 - self.alpha*self.grad_w0\n",
    "            \n",
    "            # update parameters\n",
    "            self.w0 += np.squeeze(delta_w0)\n",
    "            self.weights += np.squeeze(delta_w)\n",
    "            \n",
    "            losses.append(loss)\n",
    "            if step % 1000 == 0: print \"Batch number: {}\".format(step)+\" current loss: {}\".format(loss)\n",
    "            step += 1\n",
    "        if self.plot : self.visualization(X, Y, losses)\n",
    "        pass\n",
    "    \n",
    "    \n",
    "    def AdaGrad(self, X, Y, batch_size, thresh = 0.5, epsilon = 1e-6):\n",
    "        loss = 100\n",
    "        step = 0\n",
    "        if self.plot: losses = []\n",
    "        G = np.zeros((X.shape[1], X.shape[1]))\n",
    "        G0 = 0\n",
    "        while loss >= thresh: \n",
    "            # mini_batch formation\n",
    "            index = np.random.randint(0, len(X), size = batch_size)\n",
    "            trainX, trainY = np.array(X)[index], np.array(Y)[index]\n",
    "            \n",
    "            self.forward(trainX)\n",
    "            loss = self.loss(trainY)\n",
    "            self.gradients(trainY)\n",
    "\n",
    "            G += self.grad_w.T*self.grad_w\n",
    "            G0 += self.grad_w0**2\n",
    "            den = np.sqrt(np.diag(G)+epsilon)\n",
    "            \n",
    "            delta_w = self.alpha*self.grad_w / den\n",
    "            delta_w0 = self.alpha*self.grad_w0 / np.sqrt(G0 + epsilon)\n",
    "            \n",
    "            # update parameters\n",
    "            self.w0 -= np.squeeze(delta_w0)\n",
    "            self.weights -= np.squeeze(delta_w)\n",
    "            \n",
    "            losses.append(loss)\n",
    "            if step % 500 == 0: print \"Batch number: {}\".format(step)+\" current loss: {}\".format(loss)\n",
    "            step += 1\n",
    "        if self.plot : self.visualization(X, Y, losses)\n",
    "        pass\n",
    "    \n",
    "    \n",
    "    def RMSProp(self, X, Y, batch_size, thresh = 0.1,epsilon = 1e-4, forget= 0.9):\n",
    "        loss = 100\n",
    "        step = 0\n",
    "        if self.plot: losses = []\n",
    "        G = np.zeros((X.shape[1], X.shape[1]))\n",
    "        G0 = 0\n",
    "        while step < 270000: \n",
    "            # mini_batch formation\n",
    "            index = np.random.randint(0, len(X), size = batch_size)\n",
    "            trainX, trainY = np.array(X)[index], np.array(Y)[index]\n",
    "            \n",
    "            self.forward(trainX)\n",
    "            loss = self.loss(trainY)\n",
    "            self.gradients(trainY)\n",
    "\n",
    "            G = forget * G + (1-forget) * self.grad_w.T*self.grad_w\n",
    "            G0 = forget * G0 + (1-forget)  * self.grad_w0**2\n",
    "            den = np.sqrt(np.diag(G) + epsilon)\n",
    "            \n",
    "            delta_w = self.alpha*self.grad_w / den\n",
    "            delta_w0 = self.alpha*self.grad_w0 / np.sqrt(G0 + epsilon)\n",
    "            \n",
    "            # update parameters\n",
    "            self.w0 -= np.squeeze(delta_w0)\n",
    "            self.weights -= np.squeeze(delta_w)\n",
    "            \n",
    "            losses.append(loss)\n",
    "            if step % 5000 == 0: print \"Batch number: {}\".format(step)+\" current loss: {}\".format(loss)\n",
    "            step += 1\n",
    "        if self.plot : self.visualization(X, Y, losses)        \n",
    "        pass\n",
    "    \n",
    "    def coeff(self):\n",
    "        return self.weights, self.w0"
   ]
  },
  {
   "cell_type": "code",
   "execution_count": 5,
   "metadata": {},
   "outputs": [
    {
     "name": "stdout",
     "output_type": "stream",
     "text": [
      "coefficients used to construct y are: [6 5 4 4 2]\n"
     ]
    }
   ],
   "source": [
    "n_features = 5\n",
    "(trainX, trainY),(testX, testY) = generate_data((100, n_features))"
   ]
  },
  {
   "cell_type": "code",
   "execution_count": 6,
   "metadata": {
    "scrolled": false
   },
   "outputs": [
    {
     "name": "stdout",
     "output_type": "stream",
     "text": [
      "Batch number: 0 current loss: 1003756.98151\n"
     ]
    },
    {
     "data": {
      "image/png": "[encoded data removed]",
      "text/plain": [
       "<matplotlib.figure.Figure at 0x7f39c85be250>"
      ]
     },
     "metadata": {},
     "output_type": "display_data"
    },
    {
     "data": {
      "text/plain": [
       "(array([ 5.99206039,  4.99453494,  4.01561621,  3.99494125,  1.9992196 ]),\n",
       " array([ 0.09544154]))"
      ]
     },
     "execution_count": 6,
     "metadata": {},
     "output_type": "execute_result"
    }
   ],
   "source": [
    "# batch gradient descent implementation\n",
    "def batch_gradient_descent(trainX, trainY, thresh=1e-5):\n",
    "    reg = linear_regression(1e-6, n_features=n_features)\n",
    "    # fitting model\n",
    "    reg.batch_gradient_descent(trainX, trainY)\n",
    "    return reg.coeff()\n",
    "\n",
    "batch_gradient_descent(trainX, trainY)"
   ]
  },
  {
   "cell_type": "code",
   "execution_count": 7,
   "metadata": {
    "scrolled": false
   },
   "outputs": [
    {
     "name": "stdout",
     "output_type": "stream",
     "text": [
      "Batch number: 999 current loss: 47.0380794174\n"
     ]
    },
    {
     "data": {
      "image/png": "[encoded data removed]",
      "text/plain": [
       "<matplotlib.figure.Figure at 0x7f39a0ff1c90>"
      ]
     },
     "metadata": {},
     "output_type": "display_data"
    },
    {
     "data": {
      "text/plain": [
       "(array([ 5.94789395,  4.99232258,  4.07179402,  3.9777618 ,  1.99554409]),\n",
       " array([ 0.32801827]))"
      ]
     },
     "execution_count": 7,
     "metadata": {},
     "output_type": "execute_result"
    }
   ],
   "source": [
    "# batch gradient descent implementation\n",
    "def SGD(trainX, trainY, batch_size):\n",
    "    reg = linear_regression(1e-6, n_features)\n",
    "    # fitting model\n",
    "    reg.SGD(trainX, trainY, batch_size)\n",
    "    return reg.coeff()\n",
    "\n",
    "SGD(trainX, trainY, 10)"
   ]
  },
  {
   "cell_type": "code",
   "execution_count": 8,
   "metadata": {},
   "outputs": [
    {
     "name": "stdout",
     "output_type": "stream",
     "text": [
      "Batch number: 0 current loss: 1256625.63719\n",
      "Batch number: 1000 current loss: 26.535624196\n"
     ]
    },
    {
     "data": {
      "image/png": "[encoded data removed]",
      "text/plain": [
       "<matplotlib.figure.Figure at 0x7f39a0eb0810>"
      ]
     },
     "metadata": {},
     "output_type": "display_data"
    },
    {
     "data": {
      "text/plain": [
       "(array([ 5.99490679,  4.98500377,  4.04552582,  3.9534315 ,  2.0129719 ]),\n",
       " array([ 0.31678457]))"
      ]
     },
     "execution_count": 8,
     "metadata": {},
     "output_type": "execute_result"
    }
   ],
   "source": [
    "def SGD_momentum(trainX, trainY, batch_size):\n",
    "    reg = linear_regression(1e-6, n_features)\n",
    "    # fitting model\n",
    "    reg.SGD_with_momentum(trainX, trainY, batch_size, momentum = 0.5)\n",
    "    return reg.coeff()\n",
    "\n",
    "SGD_momentum(trainX, trainY,10)"
   ]
  },
  {
   "cell_type": "code",
   "execution_count": 9,
   "metadata": {
    "scrolled": false
   },
   "outputs": [
    {
     "name": "stdout",
     "output_type": "stream",
     "text": [
      "Batch number: 0 current loss: 863267.134528\n",
      "Batch number: 500 current loss: 5.72403956967\n"
     ]
    },
    {
     "data": {
      "image/png": "[encoded data removed]",
      "text/plain": [
       "<matplotlib.figure.Figure at 0x7f39a0fd2f10>"
      ]
     },
     "metadata": {},
     "output_type": "display_data"
    },
    {
     "data": {
      "text/plain": [
       "(array([ 5.97066877,  4.9851593 ,  4.01876013,  3.97252574,  1.97905412]),\n",
       " array([ 3.79031857]))"
      ]
     },
     "execution_count": 9,
     "metadata": {},
     "output_type": "execute_result"
    }
   ],
   "source": [
    "def Adagrad(trainX, trainY, batch_size):\n",
    "    reg = linear_regression(1, n_features)\n",
    "    # fitting model\n",
    "    reg.AdaGrad(trainX, trainY, batch_size)\n",
    "    return reg.coeff()\n",
    "\n",
    "Adagrad(trainX, trainY,10)"
   ]
  },
  {
   "cell_type": "code",
   "execution_count": 20,
   "metadata": {},
   "outputs": [
    {
     "name": "stdout",
     "output_type": "stream",
     "text": [
      "Batch number: 0 current loss: 1.38155177723\n"
     ]
    },
    {
     "data": {
      "image/png": "[encoded data removed]",
      "text/plain": [
       "<matplotlib.figure.Figure at 0x7f39c85be490>"
      ]
     },
     "metadata": {},
     "output_type": "display_data"
    },
    {
     "data": {
      "text/plain": [
       "(array([ 0.11982732, -1.1033754 , -0.36085632,  0.0774503 ,  0.61020535,\n",
       "         0.39301469,  0.388237  ]), array([ 0.82280033]))"
      ]
     },
     "execution_count": 20,
     "metadata": {},
     "output_type": "execute_result"
    }
   ],
   "source": [
    "def RMSprop(trainX, trainY, batch_size):\n",
    "    reg = linear_regression(0.001, n_features)\n",
    "    # fitting model\n",
    "    reg.RMSProp(trainX, trainY, batch_size, forget = 0.9)\n",
    "    return reg.coeff()\n",
    "\n",
    "RMSprop(trainX, trainY, 10)"
   ]
  }
 ],
 "metadata": {
  "kernelspec": {
   "display_name": "Python 2",
   "language": "python",
   "name": "python2"
  },
  "language_info": {
   "codemirror_mode": {
    "name": "ipython",
    "version": 2
   },
   "file_extension": ".py",
   "mimetype": "text/x-python",
   "name": "python",
   "nbconvert_exporter": "python",
   "pygments_lexer": "ipython2",
   "version": "2.7.14"
  }
 },
 "nbformat": 4,
 "nbformat_minor": 2
}
